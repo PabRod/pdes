{
 "cells": [
  {
   "cell_type": "markdown",
   "metadata": {},
   "source": [
    "# Laplace equation\n",
    "\n",
    "Numerical resolution of the Laplace equation:\n",
    "\n",
    "$$\n",
    "\\frac{\\partial^2 p}{\\partial x^2} + \\frac{\\partial^2 p}{\\partial y^2} = 0\n",
    "$$\n",
    "\n",
    "with given boundary conditions in a rectangular region."
   ]
  },
  {
   "cell_type": "code",
   "execution_count": 1,
   "metadata": {},
   "outputs": [],
   "source": [
    "#We'll need these libraries\n",
    "import numpy as np\n",
    "import matplotlib.pyplot as plt\n",
    "from mpl_toolkits import mplot3d"
   ]
  },
  {
   "cell_type": "markdown",
   "metadata": {},
   "source": [
    "The most advisable numerical scheme is that of central differences. This reflects the fact that the underlying physics are isotropic.\n",
    "\n",
    "$$\n",
    "p_{ij} = \\frac{1}{2(\\Delta x^2 + \\Delta y^2)} \\left( \\Delta y^2 (p_{i+1,j} + p_{i-1,j}) + \\Delta x^2 (p_{i,j+1} + p_{i,j-1}) \\right)\n",
    "$$\n",
    "\n",
    "The solution to this pentadiagonal linear system can be approximated by iteration."
   ]
  },
  {
   "cell_type": "code",
   "execution_count": 52,
   "metadata": {},
   "outputs": [],
   "source": [
    "# Numerical parameters\n",
    "nx = 40\n",
    "ny = 40\n",
    "nit = 2000\n",
    "dx = 2/(nx - 1)\n",
    "dy = 1/(ny - 1)\n",
    "\n",
    "# Grid\n",
    "xs = np.linspace(0, 2, nx)\n",
    "ys = np.linspace(0, 1, ny)\n",
    "\n",
    "# Initial guess\n",
    "p = np.zeros((nx, ny))\n",
    "\n",
    "# Boundary conditions\n",
    "p[0, :] = -np.sin(2*np.pi*ys)\n",
    "p[-1, :] = np.sin(2*np.pi*ys)\n",
    "p[:, 0] = 0.0 * xs * (xs - 2)\n",
    "p[:, -1] = 0"
   ]
  },
  {
   "cell_type": "code",
   "execution_count": 53,
   "metadata": {},
   "outputs": [],
   "source": [
    "c = 1 / (2 * (dx**2 + dy**2))\n",
    "for k in range(0, nit):\n",
    "    for i in range(1, nx-1):\n",
    "        for j in range(1, ny-1):\n",
    "            p[i,j] = c * (dy**2 * (p[i+1, j] + p[i-1, j])) + \\\n",
    "                     c * (dx**2 * (p[i, j+1] + p[i, j-1]))"
   ]
  },
  {
   "cell_type": "code",
   "execution_count": 54,
   "metadata": {},
   "outputs": [
    {
     "data": {
      "image/png": "[encoded data removed]",
      "text/plain": [
       "<Figure size 432x288 with 1 Axes>"
      ]
     },
     "metadata": {
      "needs_background": "light"
     },
     "output_type": "display_data"
    }
   ],
   "source": [
    "plt.contourf(xs, ys, p.T, cmap='coolwarm');"
   ]
  },
  {
   "cell_type": "code",
   "execution_count": null,
   "metadata": {},
   "outputs": [],
   "source": []
  }
 ],
 "metadata": {
  "kernelspec": {
   "display_name": "Python 3",
   "language": "python",
   "name": "python3"
  },
  "language_info": {
   "codemirror_mode": {
    "name": "ipython",
    "version": 3
   },
   "file_extension": ".py",
   "mimetype": "text/x-python",
   "name": "python",
   "nbconvert_exporter": "python",
   "pygments_lexer": "ipython3",
   "version": "3.7.4"
  }
 },
 "nbformat": 4,
 "nbformat_minor": 4
}
